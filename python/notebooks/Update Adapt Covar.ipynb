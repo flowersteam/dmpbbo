{
 "metadata": {
  "name": "",
  "signature": "sha256:d6fa6342a811dfee8024eeb0c5ebd9d86d17feed6d8ca133f79d5f1eb4d58f06"
 },
 "nbformat": 3,
 "nbformat_minor": 0,
 "worksheets": [
  {
   "cells": [
    {
     "cell_type": "code",
     "collapsed": false,
     "input": [
      "import sys\n",
      "sys.path.append('../../build_dir/python')\n",
      "sys.path.append('../../python')\n",
      "\n",
      "import dmpbbo as dmpbbo"
     ],
     "language": "python",
     "metadata": {},
     "outputs": [],
     "prompt_number": 1
    },
    {
     "cell_type": "code",
     "collapsed": false,
     "input": [
      "%pylab"
     ],
     "language": "python",
     "metadata": {},
     "outputs": [
      {
       "output_type": "stream",
       "stream": "stdout",
       "text": [
        "Using matplotlib backend: TkAgg\n",
        "Populating the interactive namespace from numpy and matplotlib\n"
       ]
      }
     ],
     "prompt_number": 2
    },
    {
     "cell_type": "code",
     "collapsed": false,
     "input": [
      "n_dims = 2\n",
      "from numpy import ones\n",
      "updater = dmpbbo.UpdaterCovarAdaptation(10., \"PI-BB\", [1e-5] * n_dims, False, 0.75, [0.] * n_dims, [[1.] * n_dims] * n_dims)"
     ],
     "language": "python",
     "metadata": {},
     "outputs": [],
     "prompt_number": 3
    },
    {
     "cell_type": "code",
     "collapsed": false,
     "input": [
      "from explauto.models.gmminf import GMM\n",
      "gaussian = GMM(n_components=1, covariance_type='diag')"
     ],
     "language": "python",
     "metadata": {},
     "outputs": [],
     "prompt_number": 4
    },
    {
     "cell_type": "code",
     "collapsed": false,
     "input": [
      "targets = [array([-50., 0.]), array([50., 0.])]"
     ],
     "language": "python",
     "metadata": {},
     "outputs": [],
     "prompt_number": 5
    },
    {
     "cell_type": "code",
     "collapsed": false,
     "input": [
      "def f(x_, y_):\n",
      "    x = copy(x_)\n",
      "    y = copy(y_)\n",
      "    x[x<-100] = 200 * rand((x<-100).sum()) - 100\n",
      "    x[x>100] = 200 * rand((x>100).sum()) - 100\n",
      "    y[y<-100] = 200 * rand((y<-100).sum()) - 100\n",
      "    y[y>100] = 200 * rand((y>100).sum()) - 100\n",
      "    return sin(x/10.) + sin(y/10.)"
     ],
     "language": "python",
     "metadata": {},
     "outputs": [],
     "prompt_number": 15
    },
    {
     "cell_type": "code",
     "collapsed": false,
     "input": [
      "X, Y = meshgrid(linspace(-100, 100, 100), linspace(-100, 100, 100))\n",
      "Z = f(X, Y)"
     ],
     "language": "python",
     "metadata": {},
     "outputs": [],
     "prompt_number": 16
    },
    {
     "cell_type": "code",
     "collapsed": false,
     "input": [
      "from mpl_toolkits.mplot3d import Axes3D\n",
      "ax = Axes3D(figure())\n",
      "ax.contour(X, Y, Z)\n",
      "ax.plot_wireframe(X, Y, Z)\n"
     ],
     "language": "python",
     "metadata": {},
     "outputs": [
      {
       "metadata": {},
       "output_type": "pyout",
       "prompt_number": 17,
       "text": [
        "<mpl_toolkits.mplot3d.art3d.Line3DCollection at 0x331d7e10>"
       ]
      }
     ],
     "prompt_number": 17
    },
    {
     "cell_type": "code",
     "collapsed": false,
     "input": [
      "figure()\n",
      "ax = axes()\n",
      "gaussian.means_ = array([[0., 0.]])\n",
      "gaussian._set_covars(array([400*ones(2)]))\n",
      "gaussian.weights_ = array([1.])\n",
      "ax.cla()\n",
      "\n",
      "for _ in range(100):\n",
      "    gaussian.plot_projection(ax, [0, 1])\n",
      "    samples = gaussian.sample(20)\n",
      "    ax.scatter(samples[:, 0], samples[:, 1])\n",
      "    ax.axis([-200, 200, -200, 200])\n",
      "    #inds = (random.rand(samples.shape[0]) > 0.5).astype(int)\n",
      "    #target = array([targets[i] for i in inds])\n",
      "    target =(rand(samples.shape[0], 1) * 4) - 2\n",
      "    #print target\n",
      "    costs = linalg.norm(f(samples[:,0], samples[:, 1]).reshape(-1,1) - target, axis=1)\n",
      "    updater.update_distribution(samples, costs)\n",
      "    gaussian.means_ = array([updater.mean])\n",
      "    gaussian._set_covars([diag(updater.covariance)])\n",
      "    show()\n",
      "    pause(0.2)\n",
      "    ax.cla()"
     ],
     "language": "python",
     "metadata": {},
     "outputs": [
      {
       "output_type": "stream",
       "stream": "stderr",
       "text": [
        "/usr/lib/pymodules/python2.7/matplotlib/backend_bases.py:2186: DeprecationWarning: Using default event loop until function specific to this GUI is implemented\n",
        "  warnings.warn(str,DeprecationWarning)\n",
        "/usr/lib/pymodules/python2.7/matplotlib/backend_bases.py:2186: DeprecationWarning: Using default event loop until function specific to this GUI is implemented\n",
        "  warnings.warn(str,DeprecationWarning)\n"
       ]
      },
      {
       "output_type": "stream",
       "stream": "stderr",
       "text": [
        "/usr/lib/pymodules/python2.7/matplotlib/backend_bases.py:2186: DeprecationWarning: Using default event loop until function specific to this GUI is implemented\n",
        "  warnings.warn(str,DeprecationWarning)\n",
        "/usr/lib/pymodules/python2.7/matplotlib/backend_bases.py:2186: DeprecationWarning: Using default event loop until function specific to this GUI is implemented\n",
        "  warnings.warn(str,DeprecationWarning)\n"
       ]
      },
      {
       "output_type": "stream",
       "stream": "stderr",
       "text": [
        "/usr/lib/pymodules/python2.7/matplotlib/backend_bases.py:2186: DeprecationWarning: Using default event loop until function specific to this GUI is implemented\n",
        "  warnings.warn(str,DeprecationWarning)\n",
        "/usr/lib/pymodules/python2.7/matplotlib/backend_bases.py:2186: DeprecationWarning: Using default event loop until function specific to this GUI is implemented\n",
        "  warnings.warn(str,DeprecationWarning)\n"
       ]
      },
      {
       "output_type": "stream",
       "stream": "stderr",
       "text": [
        "/usr/lib/pymodules/python2.7/matplotlib/backend_bases.py:2186: DeprecationWarning: Using default event loop until function specific to this GUI is implemented\n",
        "  warnings.warn(str,DeprecationWarning)\n",
        "/usr/lib/pymodules/python2.7/matplotlib/backend_bases.py:2186: DeprecationWarning: Using default event loop until function specific to this GUI is implemented\n",
        "  warnings.warn(str,DeprecationWarning)\n"
       ]
      },
      {
       "output_type": "stream",
       "stream": "stderr",
       "text": [
        "/usr/lib/pymodules/python2.7/matplotlib/backend_bases.py:2186: DeprecationWarning: Using default event loop until function specific to this GUI is implemented\n",
        "  warnings.warn(str,DeprecationWarning)\n",
        "/usr/lib/pymodules/python2.7/matplotlib/backend_bases.py:2186: DeprecationWarning: Using default event loop until function specific to this GUI is implemented\n",
        "  warnings.warn(str,DeprecationWarning)\n"
       ]
      },
      {
       "output_type": "stream",
       "stream": "stderr",
       "text": [
        "/usr/lib/pymodules/python2.7/matplotlib/backend_bases.py:2186: DeprecationWarning: Using default event loop until function specific to this GUI is implemented\n",
        "  warnings.warn(str,DeprecationWarning)\n",
        "/usr/lib/pymodules/python2.7/matplotlib/backend_bases.py:2186: DeprecationWarning: Using default event loop until function specific to this GUI is implemented\n",
        "  warnings.warn(str,DeprecationWarning)\n"
       ]
      },
      {
       "output_type": "stream",
       "stream": "stderr",
       "text": [
        "/usr/lib/pymodules/python2.7/matplotlib/backend_bases.py:2186: DeprecationWarning: Using default event loop until function specific to this GUI is implemented\n",
        "  warnings.warn(str,DeprecationWarning)\n",
        "/usr/lib/pymodules/python2.7/matplotlib/backend_bases.py:2186: DeprecationWarning: Using default event loop until function specific to this GUI is implemented\n",
        "  warnings.warn(str,DeprecationWarning)\n"
       ]
      },
      {
       "output_type": "stream",
       "stream": "stderr",
       "text": [
        "/usr/lib/pymodules/python2.7/matplotlib/backend_bases.py:2186: DeprecationWarning: Using default event loop until function specific to this GUI is implemented\n",
        "  warnings.warn(str,DeprecationWarning)\n",
        "/usr/lib/pymodules/python2.7/matplotlib/backend_bases.py:2186: DeprecationWarning: Using default event loop until function specific to this GUI is implemented\n",
        "  warnings.warn(str,DeprecationWarning)\n"
       ]
      },
      {
       "output_type": "stream",
       "stream": "stderr",
       "text": [
        "/usr/lib/pymodules/python2.7/matplotlib/backend_bases.py:2186: DeprecationWarning: Using default event loop until function specific to this GUI is implemented\n",
        "  warnings.warn(str,DeprecationWarning)\n",
        "/usr/lib/pymodules/python2.7/matplotlib/backend_bases.py:2186: DeprecationWarning: Using default event loop until function specific to this GUI is implemented\n",
        "  warnings.warn(str,DeprecationWarning)\n"
       ]
      },
      {
       "output_type": "stream",
       "stream": "stderr",
       "text": [
        "/usr/lib/pymodules/python2.7/matplotlib/backend_bases.py:2186: DeprecationWarning: Using default event loop until function specific to this GUI is implemented\n",
        "  warnings.warn(str,DeprecationWarning)\n",
        "/usr/lib/pymodules/python2.7/matplotlib/backend_bases.py:2186: DeprecationWarning: Using default event loop until function specific to this GUI is implemented\n",
        "  warnings.warn(str,DeprecationWarning)\n"
       ]
      },
      {
       "output_type": "stream",
       "stream": "stderr",
       "text": [
        "/usr/lib/pymodules/python2.7/matplotlib/backend_bases.py:2186: DeprecationWarning: Using default event loop until function specific to this GUI is implemented\n",
        "  warnings.warn(str,DeprecationWarning)\n",
        "/usr/lib/pymodules/python2.7/matplotlib/backend_bases.py:2186: DeprecationWarning: Using default event loop until function specific to this GUI is implemented\n",
        "  warnings.warn(str,DeprecationWarning)\n"
       ]
      },
      {
       "output_type": "stream",
       "stream": "stderr",
       "text": [
        "/usr/lib/pymodules/python2.7/matplotlib/backend_bases.py:2186: DeprecationWarning: Using default event loop until function specific to this GUI is implemented\n",
        "  warnings.warn(str,DeprecationWarning)\n",
        "/usr/lib/pymodules/python2.7/matplotlib/backend_bases.py:2186: DeprecationWarning: Using default event loop until function specific to this GUI is implemented\n",
        "  warnings.warn(str,DeprecationWarning)\n"
       ]
      },
      {
       "output_type": "stream",
       "stream": "stderr",
       "text": [
        "/usr/lib/pymodules/python2.7/matplotlib/backend_bases.py:2186: DeprecationWarning: Using default event loop until function specific to this GUI is implemented\n",
        "  warnings.warn(str,DeprecationWarning)\n",
        "/usr/lib/pymodules/python2.7/matplotlib/backend_bases.py:2186: DeprecationWarning: Using default event loop until function specific to this GUI is implemented\n",
        "  warnings.warn(str,DeprecationWarning)\n"
       ]
      },
      {
       "output_type": "stream",
       "stream": "stderr",
       "text": [
        "/usr/lib/pymodules/python2.7/matplotlib/backend_bases.py:2186: DeprecationWarning: Using default event loop until function specific to this GUI is implemented\n",
        "  warnings.warn(str,DeprecationWarning)\n",
        "/usr/lib/pymodules/python2.7/matplotlib/backend_bases.py:2186: DeprecationWarning: Using default event loop until function specific to this GUI is implemented\n",
        "  warnings.warn(str,DeprecationWarning)\n"
       ]
      },
      {
       "output_type": "stream",
       "stream": "stderr",
       "text": [
        "/usr/lib/pymodules/python2.7/matplotlib/backend_bases.py:2186: DeprecationWarning: Using default event loop until function specific to this GUI is implemented\n",
        "  warnings.warn(str,DeprecationWarning)\n",
        "/usr/lib/pymodules/python2.7/matplotlib/backend_bases.py:2186: DeprecationWarning: Using default event loop until function specific to this GUI is implemented\n",
        "  warnings.warn(str,DeprecationWarning)\n"
       ]
      },
      {
       "output_type": "stream",
       "stream": "stderr",
       "text": [
        "/usr/lib/pymodules/python2.7/matplotlib/backend_bases.py:2186: DeprecationWarning: Using default event loop until function specific to this GUI is implemented\n",
        "  warnings.warn(str,DeprecationWarning)\n",
        "/usr/lib/pymodules/python2.7/matplotlib/backend_bases.py:2186: DeprecationWarning: Using default event loop until function specific to this GUI is implemented\n",
        "  warnings.warn(str,DeprecationWarning)\n"
       ]
      },
      {
       "output_type": "stream",
       "stream": "stderr",
       "text": [
        "/usr/lib/pymodules/python2.7/matplotlib/backend_bases.py:2186: DeprecationWarning: Using default event loop until function specific to this GUI is implemented\n",
        "  warnings.warn(str,DeprecationWarning)\n",
        "/usr/lib/pymodules/python2.7/matplotlib/backend_bases.py:2186: DeprecationWarning: Using default event loop until function specific to this GUI is implemented\n",
        "  warnings.warn(str,DeprecationWarning)\n"
       ]
      },
      {
       "output_type": "stream",
       "stream": "stderr",
       "text": [
        "/usr/lib/pymodules/python2.7/matplotlib/backend_bases.py:2186: DeprecationWarning: Using default event loop until function specific to this GUI is implemented\n",
        "  warnings.warn(str,DeprecationWarning)\n",
        "/usr/lib/pymodules/python2.7/matplotlib/backend_bases.py:2186: DeprecationWarning: Using default event loop until function specific to this GUI is implemented\n",
        "  warnings.warn(str,DeprecationWarning)\n"
       ]
      },
      {
       "output_type": "stream",
       "stream": "stderr",
       "text": [
        "/usr/lib/pymodules/python2.7/matplotlib/backend_bases.py:2186: DeprecationWarning: Using default event loop until function specific to this GUI is implemented\n",
        "  warnings.warn(str,DeprecationWarning)\n",
        "/usr/lib/pymodules/python2.7/matplotlib/backend_bases.py:2186: DeprecationWarning: Using default event loop until function specific to this GUI is implemented\n",
        "  warnings.warn(str,DeprecationWarning)\n"
       ]
      },
      {
       "output_type": "stream",
       "stream": "stderr",
       "text": [
        "/usr/lib/pymodules/python2.7/matplotlib/backend_bases.py:2186: DeprecationWarning: Using default event loop until function specific to this GUI is implemented\n",
        "  warnings.warn(str,DeprecationWarning)\n",
        "/usr/lib/pymodules/python2.7/matplotlib/backend_bases.py:2186: DeprecationWarning: Using default event loop until function specific to this GUI is implemented\n",
        "  warnings.warn(str,DeprecationWarning)\n"
       ]
      },
      {
       "output_type": "stream",
       "stream": "stderr",
       "text": [
        "/usr/lib/pymodules/python2.7/matplotlib/backend_bases.py:2186: DeprecationWarning: Using default event loop until function specific to this GUI is implemented\n",
        "  warnings.warn(str,DeprecationWarning)\n",
        "/usr/lib/pymodules/python2.7/matplotlib/backend_bases.py:2186: DeprecationWarning: Using default event loop until function specific to this GUI is implemented\n",
        "  warnings.warn(str,DeprecationWarning)\n"
       ]
      },
      {
       "output_type": "stream",
       "stream": "stderr",
       "text": [
        "/usr/lib/pymodules/python2.7/matplotlib/backend_bases.py:2186: DeprecationWarning: Using default event loop until function specific to this GUI is implemented\n",
        "  warnings.warn(str,DeprecationWarning)\n",
        "/usr/lib/pymodules/python2.7/matplotlib/backend_bases.py:2186: DeprecationWarning: Using default event loop until function specific to this GUI is implemented\n",
        "  warnings.warn(str,DeprecationWarning)\n"
       ]
      },
      {
       "output_type": "stream",
       "stream": "stderr",
       "text": [
        "/usr/lib/pymodules/python2.7/matplotlib/backend_bases.py:2186: DeprecationWarning: Using default event loop until function specific to this GUI is implemented\n",
        "  warnings.warn(str,DeprecationWarning)\n",
        "/usr/lib/pymodules/python2.7/matplotlib/backend_bases.py:2186: DeprecationWarning: Using default event loop until function specific to this GUI is implemented\n",
        "  warnings.warn(str,DeprecationWarning)\n"
       ]
      },
      {
       "output_type": "stream",
       "stream": "stderr",
       "text": [
        "/usr/lib/pymodules/python2.7/matplotlib/backend_bases.py:2186: DeprecationWarning: Using default event loop until function specific to this GUI is implemented\n",
        "  warnings.warn(str,DeprecationWarning)\n",
        "/usr/lib/pymodules/python2.7/matplotlib/backend_bases.py:2186: DeprecationWarning: Using default event loop until function specific to this GUI is implemented\n",
        "  warnings.warn(str,DeprecationWarning)\n"
       ]
      },
      {
       "output_type": "stream",
       "stream": "stderr",
       "text": [
        "/usr/lib/pymodules/python2.7/matplotlib/backend_bases.py:2186: DeprecationWarning: Using default event loop until function specific to this GUI is implemented\n",
        "  warnings.warn(str,DeprecationWarning)\n",
        "/usr/lib/pymodules/python2.7/matplotlib/backend_bases.py:2186: DeprecationWarning: Using default event loop until function specific to this GUI is implemented\n",
        "  warnings.warn(str,DeprecationWarning)\n"
       ]
      },
      {
       "output_type": "stream",
       "stream": "stderr",
       "text": [
        "/usr/lib/pymodules/python2.7/matplotlib/backend_bases.py:2186: DeprecationWarning: Using default event loop until function specific to this GUI is implemented\n",
        "  warnings.warn(str,DeprecationWarning)\n",
        "/usr/lib/pymodules/python2.7/matplotlib/backend_bases.py:2186: DeprecationWarning: Using default event loop until function specific to this GUI is implemented\n",
        "  warnings.warn(str,DeprecationWarning)\n"
       ]
      },
      {
       "output_type": "stream",
       "stream": "stderr",
       "text": [
        "/usr/lib/pymodules/python2.7/matplotlib/backend_bases.py:2186: DeprecationWarning: Using default event loop until function specific to this GUI is implemented\n",
        "  warnings.warn(str,DeprecationWarning)\n",
        "/usr/lib/pymodules/python2.7/matplotlib/backend_bases.py:2186: DeprecationWarning: Using default event loop until function specific to this GUI is implemented\n",
        "  warnings.warn(str,DeprecationWarning)\n"
       ]
      },
      {
       "output_type": "stream",
       "stream": "stderr",
       "text": [
        "/usr/lib/pymodules/python2.7/matplotlib/backend_bases.py:2186: DeprecationWarning: Using default event loop until function specific to this GUI is implemented\n",
        "  warnings.warn(str,DeprecationWarning)\n",
        "/usr/lib/pymodules/python2.7/matplotlib/backend_bases.py:2186: DeprecationWarning: Using default event loop until function specific to this GUI is implemented\n",
        "  warnings.warn(str,DeprecationWarning)\n"
       ]
      },
      {
       "output_type": "stream",
       "stream": "stderr",
       "text": [
        "/usr/lib/pymodules/python2.7/matplotlib/backend_bases.py:2186: DeprecationWarning: Using default event loop until function specific to this GUI is implemented\n",
        "  warnings.warn(str,DeprecationWarning)\n",
        "/usr/lib/pymodules/python2.7/matplotlib/backend_bases.py:2186: DeprecationWarning: Using default event loop until function specific to this GUI is implemented\n",
        "  warnings.warn(str,DeprecationWarning)\n"
       ]
      },
      {
       "output_type": "stream",
       "stream": "stderr",
       "text": [
        "/usr/lib/pymodules/python2.7/matplotlib/backend_bases.py:2186: DeprecationWarning: Using default event loop until function specific to this GUI is implemented\n",
        "  warnings.warn(str,DeprecationWarning)\n",
        "/usr/lib/pymodules/python2.7/matplotlib/backend_bases.py:2186: DeprecationWarning: Using default event loop until function specific to this GUI is implemented\n",
        "  warnings.warn(str,DeprecationWarning)\n"
       ]
      },
      {
       "output_type": "stream",
       "stream": "stderr",
       "text": [
        "/usr/lib/pymodules/python2.7/matplotlib/backend_bases.py:2186: DeprecationWarning: Using default event loop until function specific to this GUI is implemented\n",
        "  warnings.warn(str,DeprecationWarning)\n",
        "/usr/lib/pymodules/python2.7/matplotlib/backend_bases.py:2186: DeprecationWarning: Using default event loop until function specific to this GUI is implemented\n",
        "  warnings.warn(str,DeprecationWarning)\n"
       ]
      },
      {
       "output_type": "stream",
       "stream": "stderr",
       "text": [
        "/usr/lib/pymodules/python2.7/matplotlib/backend_bases.py:2186: DeprecationWarning: Using default event loop until function specific to this GUI is implemented\n",
        "  warnings.warn(str,DeprecationWarning)\n",
        "/usr/lib/pymodules/python2.7/matplotlib/backend_bases.py:2186: DeprecationWarning: Using default event loop until function specific to this GUI is implemented\n",
        "  warnings.warn(str,DeprecationWarning)\n"
       ]
      },
      {
       "output_type": "stream",
       "stream": "stderr",
       "text": [
        "/usr/lib/pymodules/python2.7/matplotlib/backend_bases.py:2186: DeprecationWarning: Using default event loop until function specific to this GUI is implemented\n",
        "  warnings.warn(str,DeprecationWarning)\n",
        "/usr/lib/pymodules/python2.7/matplotlib/backend_bases.py:2186: DeprecationWarning: Using default event loop until function specific to this GUI is implemented\n",
        "  warnings.warn(str,DeprecationWarning)\n"
       ]
      },
      {
       "output_type": "stream",
       "stream": "stderr",
       "text": [
        "/usr/lib/pymodules/python2.7/matplotlib/backend_bases.py:2186: DeprecationWarning: Using default event loop until function specific to this GUI is implemented\n",
        "  warnings.warn(str,DeprecationWarning)\n",
        "/usr/lib/pymodules/python2.7/matplotlib/backend_bases.py:2186: DeprecationWarning: Using default event loop until function specific to this GUI is implemented\n",
        "  warnings.warn(str,DeprecationWarning)\n"
       ]
      },
      {
       "output_type": "stream",
       "stream": "stderr",
       "text": [
        "/usr/lib/pymodules/python2.7/matplotlib/backend_bases.py:2186: DeprecationWarning: Using default event loop until function specific to this GUI is implemented\n",
        "  warnings.warn(str,DeprecationWarning)\n",
        "/usr/lib/pymodules/python2.7/matplotlib/backend_bases.py:2186: DeprecationWarning: Using default event loop until function specific to this GUI is implemented\n",
        "  warnings.warn(str,DeprecationWarning)\n"
       ]
      },
      {
       "output_type": "stream",
       "stream": "stderr",
       "text": [
        "/usr/lib/pymodules/python2.7/matplotlib/backend_bases.py:2186: DeprecationWarning: Using default event loop until function specific to this GUI is implemented\n",
        "  warnings.warn(str,DeprecationWarning)\n",
        "/usr/lib/pymodules/python2.7/matplotlib/backend_bases.py:2186: DeprecationWarning: Using default event loop until function specific to this GUI is implemented\n",
        "  warnings.warn(str,DeprecationWarning)\n"
       ]
      },
      {
       "output_type": "stream",
       "stream": "stderr",
       "text": [
        "/usr/lib/pymodules/python2.7/matplotlib/backend_bases.py:2186: DeprecationWarning: Using default event loop until function specific to this GUI is implemented\n",
        "  warnings.warn(str,DeprecationWarning)\n",
        "/usr/lib/pymodules/python2.7/matplotlib/backend_bases.py:2186: DeprecationWarning: Using default event loop until function specific to this GUI is implemented\n",
        "  warnings.warn(str,DeprecationWarning)\n"
       ]
      },
      {
       "output_type": "stream",
       "stream": "stderr",
       "text": [
        "/usr/lib/pymodules/python2.7/matplotlib/backend_bases.py:2186: DeprecationWarning: Using default event loop until function specific to this GUI is implemented\n",
        "  warnings.warn(str,DeprecationWarning)\n",
        "/usr/lib/pymodules/python2.7/matplotlib/backend_bases.py:2186: DeprecationWarning: Using default event loop until function specific to this GUI is implemented\n",
        "  warnings.warn(str,DeprecationWarning)\n"
       ]
      },
      {
       "output_type": "stream",
       "stream": "stderr",
       "text": [
        "/usr/lib/pymodules/python2.7/matplotlib/backend_bases.py:2186: DeprecationWarning: Using default event loop until function specific to this GUI is implemented\n",
        "  warnings.warn(str,DeprecationWarning)\n",
        "/usr/lib/pymodules/python2.7/matplotlib/backend_bases.py:2186: DeprecationWarning: Using default event loop until function specific to this GUI is implemented\n",
        "  warnings.warn(str,DeprecationWarning)\n"
       ]
      },
      {
       "output_type": "stream",
       "stream": "stderr",
       "text": [
        "/usr/lib/pymodules/python2.7/matplotlib/backend_bases.py:2186: DeprecationWarning: Using default event loop until function specific to this GUI is implemented\n",
        "  warnings.warn(str,DeprecationWarning)\n",
        "/usr/lib/pymodules/python2.7/matplotlib/backend_bases.py:2186: DeprecationWarning: Using default event loop until function specific to this GUI is implemented\n",
        "  warnings.warn(str,DeprecationWarning)\n"
       ]
      },
      {
       "output_type": "stream",
       "stream": "stderr",
       "text": [
        "/usr/lib/pymodules/python2.7/matplotlib/backend_bases.py:2186: DeprecationWarning: Using default event loop until function specific to this GUI is implemented\n",
        "  warnings.warn(str,DeprecationWarning)\n",
        "/usr/lib/pymodules/python2.7/matplotlib/backend_bases.py:2186: DeprecationWarning: Using default event loop until function specific to this GUI is implemented\n",
        "  warnings.warn(str,DeprecationWarning)\n"
       ]
      },
      {
       "output_type": "stream",
       "stream": "stderr",
       "text": [
        "/usr/lib/pymodules/python2.7/matplotlib/backend_bases.py:2186: DeprecationWarning: Using default event loop until function specific to this GUI is implemented\n",
        "  warnings.warn(str,DeprecationWarning)\n",
        "/usr/lib/pymodules/python2.7/matplotlib/backend_bases.py:2186: DeprecationWarning: Using default event loop until function specific to this GUI is implemented\n",
        "  warnings.warn(str,DeprecationWarning)\n"
       ]
      },
      {
       "output_type": "stream",
       "stream": "stderr",
       "text": [
        "/usr/lib/pymodules/python2.7/matplotlib/backend_bases.py:2186: DeprecationWarning: Using default event loop until function specific to this GUI is implemented\n",
        "  warnings.warn(str,DeprecationWarning)\n",
        "/usr/lib/pymodules/python2.7/matplotlib/backend_bases.py:2186: DeprecationWarning: Using default event loop until function specific to this GUI is implemented\n",
        "  warnings.warn(str,DeprecationWarning)\n"
       ]
      },
      {
       "output_type": "stream",
       "stream": "stderr",
       "text": [
        "/usr/lib/pymodules/python2.7/matplotlib/backend_bases.py:2186: DeprecationWarning: Using default event loop until function specific to this GUI is implemented\n",
        "  warnings.warn(str,DeprecationWarning)\n",
        "/usr/lib/pymodules/python2.7/matplotlib/backend_bases.py:2186: DeprecationWarning: Using default event loop until function specific to this GUI is implemented\n",
        "  warnings.warn(str,DeprecationWarning)\n"
       ]
      },
      {
       "output_type": "stream",
       "stream": "stderr",
       "text": [
        "/usr/lib/pymodules/python2.7/matplotlib/backend_bases.py:2186: DeprecationWarning: Using default event loop until function specific to this GUI is implemented\n",
        "  warnings.warn(str,DeprecationWarning)\n",
        "/usr/lib/pymodules/python2.7/matplotlib/backend_bases.py:2186: DeprecationWarning: Using default event loop until function specific to this GUI is implemented\n",
        "  warnings.warn(str,DeprecationWarning)\n"
       ]
      },
      {
       "output_type": "stream",
       "stream": "stderr",
       "text": [
        "/usr/lib/pymodules/python2.7/matplotlib/backend_bases.py:2186: DeprecationWarning: Using default event loop until function specific to this GUI is implemented\n",
        "  warnings.warn(str,DeprecationWarning)\n",
        "/usr/lib/pymodules/python2.7/matplotlib/backend_bases.py:2186: DeprecationWarning: Using default event loop until function specific to this GUI is implemented\n",
        "  warnings.warn(str,DeprecationWarning)\n"
       ]
      },
      {
       "output_type": "stream",
       "stream": "stderr",
       "text": [
        "/usr/lib/pymodules/python2.7/matplotlib/backend_bases.py:2186: DeprecationWarning: Using default event loop until function specific to this GUI is implemented\n",
        "  warnings.warn(str,DeprecationWarning)\n",
        "/usr/lib/pymodules/python2.7/matplotlib/backend_bases.py:2186: DeprecationWarning: Using default event loop until function specific to this GUI is implemented\n",
        "  warnings.warn(str,DeprecationWarning)\n"
       ]
      },
      {
       "output_type": "stream",
       "stream": "stderr",
       "text": [
        "/usr/lib/pymodules/python2.7/matplotlib/backend_bases.py:2186: DeprecationWarning: Using default event loop until function specific to this GUI is implemented\n",
        "  warnings.warn(str,DeprecationWarning)\n",
        "/usr/lib/pymodules/python2.7/matplotlib/backend_bases.py:2186: DeprecationWarning: Using default event loop until function specific to this GUI is implemented\n",
        "  warnings.warn(str,DeprecationWarning)\n"
       ]
      },
      {
       "output_type": "stream",
       "stream": "stderr",
       "text": [
        "/usr/lib/pymodules/python2.7/matplotlib/backend_bases.py:2186: DeprecationWarning: Using default event loop until function specific to this GUI is implemented\n",
        "  warnings.warn(str,DeprecationWarning)\n",
        "/usr/lib/pymodules/python2.7/matplotlib/backend_bases.py:2186: DeprecationWarning: Using default event loop until function specific to this GUI is implemented\n",
        "  warnings.warn(str,DeprecationWarning)\n"
       ]
      },
      {
       "output_type": "stream",
       "stream": "stderr",
       "text": [
        "/usr/lib/pymodules/python2.7/matplotlib/backend_bases.py:2186: DeprecationWarning: Using default event loop until function specific to this GUI is implemented\n",
        "  warnings.warn(str,DeprecationWarning)\n",
        "/usr/lib/pymodules/python2.7/matplotlib/backend_bases.py:2186: DeprecationWarning: Using default event loop until function specific to this GUI is implemented\n",
        "  warnings.warn(str,DeprecationWarning)\n"
       ]
      }
     ],
     "prompt_number": 18
    },
    {
     "cell_type": "code",
     "collapsed": false,
     "input": [
      "a = array([True])\n",
      "print a.astype(int)"
     ],
     "language": "python",
     "metadata": {},
     "outputs": []
    },
    {
     "cell_type": "code",
     "collapsed": false,
     "input": [
      "diag([1.,1.])"
     ],
     "language": "python",
     "metadata": {},
     "outputs": [
      {
       "metadata": {},
       "output_type": "pyout",
       "prompt_number": 12,
       "text": [
        "array([[ 1.,  0.],\n",
        "       [ 0.,  1.]])"
       ]
      }
     ],
     "prompt_number": 12
    },
    {
     "cell_type": "code",
     "collapsed": false,
     "input": [
      "10., \"PI-BB\", [1e-5] * n_dims, False, 0.75, [0.] * n_dims, [[1.] * n_dims] * n_dims"
     ],
     "language": "python",
     "metadata": {},
     "outputs": [
      {
       "metadata": {},
       "output_type": "pyout",
       "prompt_number": 4,
       "text": [
        "(10.0,\n",
        " 'PI-BB',\n",
        " [1e-05, 1e-05],\n",
        " False,\n",
        " 0.75,\n",
        " [0.0, 0.0],\n",
        " [[1.0, 1.0], [1.0, 1.0]])"
       ]
      }
     ],
     "prompt_number": 4
    },
    {
     "cell_type": "code",
     "collapsed": false,
     "input": [
      "[[1]*3]*4"
     ],
     "language": "python",
     "metadata": {},
     "outputs": [
      {
       "metadata": {},
       "output_type": "pyout",
       "prompt_number": 17,
       "text": [
        "[[1, 1, 1], [1, 1, 1], [1, 1, 1], [1, 1, 1]]"
       ]
      }
     ],
     "prompt_number": 17
    },
    {
     "cell_type": "code",
     "collapsed": false,
     "input": [],
     "language": "python",
     "metadata": {},
     "outputs": []
    }
   ],
   "metadata": {}
  }
 ]
}